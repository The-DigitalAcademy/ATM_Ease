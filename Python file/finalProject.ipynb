{
 "cells": [
  {
   "cell_type": "code",
   "execution_count": 28,
   "metadata": {},
   "outputs": [],
   "source": [
    "import numpy as np\n",
    "import pandas as pd\n",
    "\n",
    "\n",
    "from matplotlib import pyplot as plt\n",
    "%matplotlib inline\n",
    "import seaborn as sns\n",
    "import plotly.express as px\n",
    "import plotly.graph_objects as go\n",
    "import warnings\n",
    "warnings.simplefilter(action='ignore', category=FutureWarning)"
   ]
  },
  {
   "cell_type": "code",
   "execution_count": 81,
   "metadata": {},
   "outputs": [
    {
     "data": {
      "text/html": [
       "<div>\n",
       "<style scoped>\n",
       "    .dataframe tbody tr th:only-of-type {\n",
       "        vertical-align: middle;\n",
       "    }\n",
       "\n",
       "    .dataframe tbody tr th {\n",
       "        vertical-align: top;\n",
       "    }\n",
       "\n",
       "    .dataframe thead th {\n",
       "        text-align: right;\n",
       "    }\n",
       "</style>\n",
       "<table border=\"1\" class=\"dataframe\">\n",
       "  <thead>\n",
       "    <tr style=\"text-align: right;\">\n",
       "      <th></th>\n",
       "      <th>Address</th>\n",
       "      <th>Town/City</th>\n",
       "      <th>Business Type</th>\n",
       "      <th>Color</th>\n",
       "      <th>Municipality</th>\n",
       "      <th>Security</th>\n",
       "      <th>Town Population</th>\n",
       "      <th>Municipality Population</th>\n",
       "    </tr>\n",
       "  </thead>\n",
       "  <tbody>\n",
       "    <tr>\n",
       "      <th>0</th>\n",
       "      <td>1055 London Road,Tsutsumani,Alexandra</td>\n",
       "      <td>Johannesburg</td>\n",
       "      <td>Absa</td>\n",
       "      <td>Red</td>\n",
       "      <td>City of Johannesburg Metropolitan Municipality</td>\n",
       "      <td>Safe</td>\n",
       "      <td>910,550.00</td>\n",
       "      <td>5,600,000.00</td>\n",
       "    </tr>\n",
       "    <tr>\n",
       "      <th>1</th>\n",
       "      <td>66 Jorrisen Place, Cnr Bertha And Jorrisen Str...</td>\n",
       "      <td>Johannesburg</td>\n",
       "      <td>Absa</td>\n",
       "      <td>Red</td>\n",
       "      <td>City of Johannesburg Metropolitan Municipality</td>\n",
       "      <td>Unsafe</td>\n",
       "      <td>910,550.00</td>\n",
       "      <td>5,600,000.00</td>\n",
       "    </tr>\n",
       "    <tr>\n",
       "      <th>2</th>\n",
       "      <td>23 Jorrrison street,Braamfontein,Johannesburg</td>\n",
       "      <td>Johannesburg</td>\n",
       "      <td>Absa</td>\n",
       "      <td>Red</td>\n",
       "      <td>City of Johannesburg Metropolitan Municipality</td>\n",
       "      <td>Unsafe</td>\n",
       "      <td>910,550.00</td>\n",
       "      <td>5,600,000.00</td>\n",
       "    </tr>\n",
       "    <tr>\n",
       "      <th>3</th>\n",
       "      <td>cnr Biccard and Stiemans Street,Braamfontein,J...</td>\n",
       "      <td>Johannesburg</td>\n",
       "      <td>Absa</td>\n",
       "      <td>Red</td>\n",
       "      <td>City of Johannesburg Metropolitan Municipality</td>\n",
       "      <td>Unsafe</td>\n",
       "      <td>910,550.00</td>\n",
       "      <td>5,600,000.00</td>\n",
       "    </tr>\n",
       "    <tr>\n",
       "      <th>4</th>\n",
       "      <td>Wits University, 1st floor, Matrix Centre, 1 J...</td>\n",
       "      <td>Johannesburg</td>\n",
       "      <td>Absa</td>\n",
       "      <td>Red</td>\n",
       "      <td>City of Johannesburg Metropolitan Municipality</td>\n",
       "      <td>Safe</td>\n",
       "      <td>910,550.00</td>\n",
       "      <td>5,600,000.00</td>\n",
       "    </tr>\n",
       "  </tbody>\n",
       "</table>\n",
       "</div>"
      ],
      "text/plain": [
       "                                             Address     Town/City  \\\n",
       "0              1055 London Road,Tsutsumani,Alexandra  Johannesburg   \n",
       "1  66 Jorrisen Place, Cnr Bertha And Jorrisen Str...  Johannesburg   \n",
       "2      23 Jorrrison street,Braamfontein,Johannesburg  Johannesburg   \n",
       "3  cnr Biccard and Stiemans Street,Braamfontein,J...  Johannesburg   \n",
       "4  Wits University, 1st floor, Matrix Centre, 1 J...  Johannesburg   \n",
       "\n",
       "  Business Type Color                                    Municipality  \\\n",
       "0          Absa   Red  City of Johannesburg Metropolitan Municipality   \n",
       "1          Absa   Red  City of Johannesburg Metropolitan Municipality   \n",
       "2          Absa   Red  City of Johannesburg Metropolitan Municipality   \n",
       "3          Absa   Red  City of Johannesburg Metropolitan Municipality   \n",
       "4          Absa   Red  City of Johannesburg Metropolitan Municipality   \n",
       "\n",
       "  Security Town Population Municipality Population  \n",
       "0     Safe      910,550.00            5,600,000.00  \n",
       "1   Unsafe      910,550.00            5,600,000.00  \n",
       "2   Unsafe      910,550.00            5,600,000.00  \n",
       "3   Unsafe      910,550.00            5,600,000.00  \n",
       "4     Safe      910,550.00            5,600,000.00  "
      ]
     },
     "execution_count": 81,
     "metadata": {},
     "output_type": "execute_result"
    }
   ],
   "source": [
    "#Reading the data from the csv\n",
    "ATM = pd.read_csv(\"/Users/damac20/Downloads/Gauteng_ATM-EASE_data2 - Gauteng_ATM-EASE_data2.csv.csv\")\n",
    "ATM.head(5)"
   ]
  },
  {
   "cell_type": "code",
   "execution_count": 51,
   "metadata": {},
   "outputs": [
    {
     "data": {
      "text/html": [
       "<div>\n",
       "<style scoped>\n",
       "    .dataframe tbody tr th:only-of-type {\n",
       "        vertical-align: middle;\n",
       "    }\n",
       "\n",
       "    .dataframe tbody tr th {\n",
       "        vertical-align: top;\n",
       "    }\n",
       "\n",
       "    .dataframe thead th {\n",
       "        text-align: right;\n",
       "    }\n",
       "</style>\n",
       "<table border=\"1\" class=\"dataframe\">\n",
       "  <thead>\n",
       "    <tr style=\"text-align: right;\">\n",
       "      <th></th>\n",
       "      <th>Address</th>\n",
       "      <th>Town/City</th>\n",
       "      <th>Business Type</th>\n",
       "      <th>Color</th>\n",
       "      <th>Municipality</th>\n",
       "      <th>Security</th>\n",
       "      <th>Town Population</th>\n",
       "      <th>Municipality Population</th>\n",
       "    </tr>\n",
       "  </thead>\n",
       "  <tbody>\n",
       "    <tr>\n",
       "      <th>0</th>\n",
       "      <td>1055 London Road,Tsutsumani,Alexandra</td>\n",
       "      <td>Johannesburg</td>\n",
       "      <td>Absa</td>\n",
       "      <td>Red</td>\n",
       "      <td>City of Johannesburg Metropolitan Municipality</td>\n",
       "      <td>Safe</td>\n",
       "      <td>910,550.00</td>\n",
       "      <td>5,600,000.00</td>\n",
       "    </tr>\n",
       "    <tr>\n",
       "      <th>1</th>\n",
       "      <td>66 Jorrisen Place, Cnr Bertha And Jorrisen Str...</td>\n",
       "      <td>Johannesburg</td>\n",
       "      <td>Absa</td>\n",
       "      <td>Red</td>\n",
       "      <td>City of Johannesburg Metropolitan Municipality</td>\n",
       "      <td>Unsafe</td>\n",
       "      <td>910,550.00</td>\n",
       "      <td>5,600,000.00</td>\n",
       "    </tr>\n",
       "    <tr>\n",
       "      <th>2</th>\n",
       "      <td>23 Jorrrison street,Braamfontein,Johannesburg</td>\n",
       "      <td>Johannesburg</td>\n",
       "      <td>Absa</td>\n",
       "      <td>Red</td>\n",
       "      <td>City of Johannesburg Metropolitan Municipality</td>\n",
       "      <td>Unsafe</td>\n",
       "      <td>910,550.00</td>\n",
       "      <td>5,600,000.00</td>\n",
       "    </tr>\n",
       "    <tr>\n",
       "      <th>3</th>\n",
       "      <td>cnr Biccard and Stiemans Street,Braamfontein,J...</td>\n",
       "      <td>Johannesburg</td>\n",
       "      <td>Absa</td>\n",
       "      <td>Red</td>\n",
       "      <td>City of Johannesburg Metropolitan Municipality</td>\n",
       "      <td>Unsafe</td>\n",
       "      <td>910,550.00</td>\n",
       "      <td>5,600,000.00</td>\n",
       "    </tr>\n",
       "    <tr>\n",
       "      <th>4</th>\n",
       "      <td>Wits University, 1st floor, Matrix Centre, 1 J...</td>\n",
       "      <td>Johannesburg</td>\n",
       "      <td>Absa</td>\n",
       "      <td>Red</td>\n",
       "      <td>City of Johannesburg Metropolitan Municipality</td>\n",
       "      <td>Safe</td>\n",
       "      <td>910,550.00</td>\n",
       "      <td>5,600,000.00</td>\n",
       "    </tr>\n",
       "    <tr>\n",
       "      <th>...</th>\n",
       "      <td>...</td>\n",
       "      <td>...</td>\n",
       "      <td>...</td>\n",
       "      <td>...</td>\n",
       "      <td>...</td>\n",
       "      <td>...</td>\n",
       "      <td>...</td>\n",
       "      <td>...</td>\n",
       "    </tr>\n",
       "    <tr>\n",
       "      <th>15143</th>\n",
       "      <td>Adcock Street, Chamdor, Krugersdorp, 1754, Sou...</td>\n",
       "      <td>Krugersdorp</td>\n",
       "      <td>Taxi Rank</td>\n",
       "      <td>Purple</td>\n",
       "      <td>West Rand District Municipality</td>\n",
       "      <td>NaN</td>\n",
       "      <td>140,643.00</td>\n",
       "      <td>820,995.00</td>\n",
       "    </tr>\n",
       "    <tr>\n",
       "      <th>15144</th>\n",
       "      <td>Sivewright St, Luipaardsvlei 246 IQ, Krugersdo...</td>\n",
       "      <td>Krugersdorp</td>\n",
       "      <td>Taxi Rank</td>\n",
       "      <td>Purple</td>\n",
       "      <td>West Rand District Municipality</td>\n",
       "      <td>NaN</td>\n",
       "      <td>140,643.00</td>\n",
       "      <td>820,995.00</td>\n",
       "    </tr>\n",
       "    <tr>\n",
       "      <th>15145</th>\n",
       "      <td>Sunpiper Street, Rietvallei 241-Iq, Krugersdor...</td>\n",
       "      <td>Krugersdorp</td>\n",
       "      <td>Taxi Rank</td>\n",
       "      <td>Purple</td>\n",
       "      <td>West Rand District Municipality</td>\n",
       "      <td>NaN</td>\n",
       "      <td>140,643.00</td>\n",
       "      <td>820,995.00</td>\n",
       "    </tr>\n",
       "    <tr>\n",
       "      <th>15146</th>\n",
       "      <td>Sunpiper Street, Rietvallei 241-Iq, Krugersdor...</td>\n",
       "      <td>Krugersdorp</td>\n",
       "      <td>Taxi Rank</td>\n",
       "      <td>Purple</td>\n",
       "      <td>West Rand District Municipality</td>\n",
       "      <td>NaN</td>\n",
       "      <td>140,643.00</td>\n",
       "      <td>820,995.00</td>\n",
       "    </tr>\n",
       "    <tr>\n",
       "      <th>15147</th>\n",
       "      <td>Krugersdorp, Munsieville, Krugersdorp, 1775, S...</td>\n",
       "      <td>Krugersdorp</td>\n",
       "      <td>Taxi Rank</td>\n",
       "      <td>Purple</td>\n",
       "      <td>West Rand District Municipality</td>\n",
       "      <td>NaN</td>\n",
       "      <td>140,643.00</td>\n",
       "      <td>820,995.00</td>\n",
       "    </tr>\n",
       "  </tbody>\n",
       "</table>\n",
       "<p>15148 rows × 8 columns</p>\n",
       "</div>"
      ],
      "text/plain": [
       "                                                 Address     Town/City  \\\n",
       "0                  1055 London Road,Tsutsumani,Alexandra  Johannesburg   \n",
       "1      66 Jorrisen Place, Cnr Bertha And Jorrisen Str...  Johannesburg   \n",
       "2          23 Jorrrison street,Braamfontein,Johannesburg  Johannesburg   \n",
       "3      cnr Biccard and Stiemans Street,Braamfontein,J...  Johannesburg   \n",
       "4      Wits University, 1st floor, Matrix Centre, 1 J...  Johannesburg   \n",
       "...                                                  ...           ...   \n",
       "15143  Adcock Street, Chamdor, Krugersdorp, 1754, Sou...   Krugersdorp   \n",
       "15144  Sivewright St, Luipaardsvlei 246 IQ, Krugersdo...   Krugersdorp   \n",
       "15145  Sunpiper Street, Rietvallei 241-Iq, Krugersdor...   Krugersdorp   \n",
       "15146  Sunpiper Street, Rietvallei 241-Iq, Krugersdor...   Krugersdorp   \n",
       "15147  Krugersdorp, Munsieville, Krugersdorp, 1775, S...   Krugersdorp   \n",
       "\n",
       "      Business Type   Color                                    Municipality  \\\n",
       "0              Absa     Red  City of Johannesburg Metropolitan Municipality   \n",
       "1              Absa     Red  City of Johannesburg Metropolitan Municipality   \n",
       "2              Absa     Red  City of Johannesburg Metropolitan Municipality   \n",
       "3              Absa     Red  City of Johannesburg Metropolitan Municipality   \n",
       "4              Absa     Red  City of Johannesburg Metropolitan Municipality   \n",
       "...             ...     ...                                             ...   \n",
       "15143     Taxi Rank  Purple                 West Rand District Municipality   \n",
       "15144     Taxi Rank  Purple                 West Rand District Municipality   \n",
       "15145     Taxi Rank  Purple                 West Rand District Municipality   \n",
       "15146     Taxi Rank  Purple                 West Rand District Municipality   \n",
       "15147     Taxi Rank  Purple                 West Rand District Municipality   \n",
       "\n",
       "      Security Town Population Municipality Population  \n",
       "0         Safe      910,550.00            5,600,000.00  \n",
       "1       Unsafe      910,550.00            5,600,000.00  \n",
       "2       Unsafe      910,550.00            5,600,000.00  \n",
       "3       Unsafe      910,550.00            5,600,000.00  \n",
       "4         Safe      910,550.00            5,600,000.00  \n",
       "...        ...             ...                     ...  \n",
       "15143      NaN      140,643.00              820,995.00  \n",
       "15144      NaN      140,643.00              820,995.00  \n",
       "15145      NaN      140,643.00              820,995.00  \n",
       "15146      NaN      140,643.00              820,995.00  \n",
       "15147      NaN      140,643.00              820,995.00  \n",
       "\n",
       "[15148 rows x 8 columns]"
      ]
     },
     "execution_count": 51,
     "metadata": {},
     "output_type": "execute_result"
    }
   ],
   "source": [
    "#Droping signup and purchase time\n",
    "df=ATM.drop(['Security'], axis=1)\n",
    "ATM"
   ]
  },
  {
   "cell_type": "code",
   "execution_count": 52,
   "metadata": {},
   "outputs": [
    {
     "data": {
      "text/plain": [
       "(15148, 8)"
      ]
     },
     "execution_count": 52,
     "metadata": {},
     "output_type": "execute_result"
    }
   ],
   "source": [
    "ATM.shape"
   ]
  },
  {
   "cell_type": "code",
   "execution_count": 53,
   "metadata": {},
   "outputs": [
    {
     "data": {
      "text/html": [
       "<div>\n",
       "<style scoped>\n",
       "    .dataframe tbody tr th:only-of-type {\n",
       "        vertical-align: middle;\n",
       "    }\n",
       "\n",
       "    .dataframe tbody tr th {\n",
       "        vertical-align: top;\n",
       "    }\n",
       "\n",
       "    .dataframe thead th {\n",
       "        text-align: right;\n",
       "    }\n",
       "</style>\n",
       "<table border=\"1\" class=\"dataframe\">\n",
       "  <thead>\n",
       "    <tr style=\"text-align: right;\">\n",
       "      <th></th>\n",
       "      <th>Address</th>\n",
       "      <th>Town/City</th>\n",
       "      <th>Business Type</th>\n",
       "      <th>Color</th>\n",
       "      <th>Municipality</th>\n",
       "      <th>Security</th>\n",
       "      <th>Town Population</th>\n",
       "      <th>Municipality Population</th>\n",
       "    </tr>\n",
       "  </thead>\n",
       "  <tbody>\n",
       "    <tr>\n",
       "      <th>count</th>\n",
       "      <td>15148</td>\n",
       "      <td>15148</td>\n",
       "      <td>15148</td>\n",
       "      <td>15147</td>\n",
       "      <td>15148</td>\n",
       "      <td>6892</td>\n",
       "      <td>15147</td>\n",
       "      <td>15148</td>\n",
       "    </tr>\n",
       "    <tr>\n",
       "      <th>unique</th>\n",
       "      <td>10207</td>\n",
       "      <td>18</td>\n",
       "      <td>13</td>\n",
       "      <td>13</td>\n",
       "      <td>9</td>\n",
       "      <td>4</td>\n",
       "      <td>24</td>\n",
       "      <td>10</td>\n",
       "    </tr>\n",
       "    <tr>\n",
       "      <th>top</th>\n",
       "      <td>CNR BOLANI and KOMA ROADS</td>\n",
       "      <td>Johannesburg</td>\n",
       "      <td>Standard bank</td>\n",
       "      <td>Blue</td>\n",
       "      <td>City of Johannesburg Metropolitan Municipality</td>\n",
       "      <td>Safe</td>\n",
       "      <td>910,550.00</td>\n",
       "      <td>5,600,000.00</td>\n",
       "    </tr>\n",
       "    <tr>\n",
       "      <th>freq</th>\n",
       "      <td>36</td>\n",
       "      <td>3053</td>\n",
       "      <td>2509</td>\n",
       "      <td>2509</td>\n",
       "      <td>6216</td>\n",
       "      <td>4736</td>\n",
       "      <td>3316</td>\n",
       "      <td>6058</td>\n",
       "    </tr>\n",
       "  </tbody>\n",
       "</table>\n",
       "</div>"
      ],
      "text/plain": [
       "                          Address     Town/City  Business Type  Color  \\\n",
       "count                       15148         15148          15148  15147   \n",
       "unique                      10207            18             13     13   \n",
       "top     CNR BOLANI and KOMA ROADS  Johannesburg  Standard bank   Blue   \n",
       "freq                           36          3053           2509   2509   \n",
       "\n",
       "                                          Municipality Security  \\\n",
       "count                                            15148     6892   \n",
       "unique                                               9        4   \n",
       "top     City of Johannesburg Metropolitan Municipality     Safe   \n",
       "freq                                              6216     4736   \n",
       "\n",
       "       Town Population Municipality Population  \n",
       "count            15147                   15148  \n",
       "unique              24                      10  \n",
       "top         910,550.00            5,600,000.00  \n",
       "freq              3316                    6058  "
      ]
     },
     "execution_count": 53,
     "metadata": {},
     "output_type": "execute_result"
    }
   ],
   "source": [
    "ATM.describe()"
   ]
  },
  {
   "cell_type": "code",
   "execution_count": 54,
   "metadata": {},
   "outputs": [
    {
     "data": {
      "text/html": [
       "<div>\n",
       "<style scoped>\n",
       "    .dataframe tbody tr th:only-of-type {\n",
       "        vertical-align: middle;\n",
       "    }\n",
       "\n",
       "    .dataframe tbody tr th {\n",
       "        vertical-align: top;\n",
       "    }\n",
       "\n",
       "    .dataframe thead th {\n",
       "        text-align: right;\n",
       "    }\n",
       "</style>\n",
       "<table border=\"1\" class=\"dataframe\">\n",
       "  <thead>\n",
       "    <tr style=\"text-align: right;\">\n",
       "      <th></th>\n",
       "      <th>Total</th>\n",
       "      <th>Percent</th>\n",
       "    </tr>\n",
       "  </thead>\n",
       "  <tbody>\n",
       "    <tr>\n",
       "      <th>Security</th>\n",
       "      <td>8256</td>\n",
       "      <td>0.545022</td>\n",
       "    </tr>\n",
       "    <tr>\n",
       "      <th>Color</th>\n",
       "      <td>1</td>\n",
       "      <td>0.000066</td>\n",
       "    </tr>\n",
       "    <tr>\n",
       "      <th>Town Population</th>\n",
       "      <td>1</td>\n",
       "      <td>0.000066</td>\n",
       "    </tr>\n",
       "    <tr>\n",
       "      <th>Address</th>\n",
       "      <td>0</td>\n",
       "      <td>0.000000</td>\n",
       "    </tr>\n",
       "    <tr>\n",
       "      <th>Town/City</th>\n",
       "      <td>0</td>\n",
       "      <td>0.000000</td>\n",
       "    </tr>\n",
       "    <tr>\n",
       "      <th>Business Type</th>\n",
       "      <td>0</td>\n",
       "      <td>0.000000</td>\n",
       "    </tr>\n",
       "    <tr>\n",
       "      <th>Municipality</th>\n",
       "      <td>0</td>\n",
       "      <td>0.000000</td>\n",
       "    </tr>\n",
       "    <tr>\n",
       "      <th>Municipality Population</th>\n",
       "      <td>0</td>\n",
       "      <td>0.000000</td>\n",
       "    </tr>\n",
       "  </tbody>\n",
       "</table>\n",
       "</div>"
      ],
      "text/plain": [
       "                         Total   Percent\n",
       "Security                  8256  0.545022\n",
       "Color                        1  0.000066\n",
       "Town Population              1  0.000066\n",
       "Address                      0  0.000000\n",
       "Town/City                    0  0.000000\n",
       "Business Type                0  0.000000\n",
       "Municipality                 0  0.000000\n",
       "Municipality Population      0  0.000000"
      ]
     },
     "execution_count": 54,
     "metadata": {},
     "output_type": "execute_result"
    }
   ],
   "source": [
    "#checking the null values\n",
    "total = ATM.isnull().sum().sort_values(ascending=False)\n",
    "percent = (ATM.isnull().sum()/ATM.isnull().count()).sort_values(ascending=False)\n",
    "missing_data = pd.concat([total, percent], axis=1, keys=['Total', 'Percent'])\n",
    "missing_data.head(20)"
   ]
  },
  {
   "cell_type": "code",
   "execution_count": 55,
   "metadata": {},
   "outputs": [
    {
     "name": "stdout",
     "output_type": "stream",
     "text": [
      "<class 'pandas.core.frame.DataFrame'>\n",
      "RangeIndex: 15148 entries, 0 to 15147\n",
      "Data columns (total 8 columns):\n",
      " #   Column                   Non-Null Count  Dtype \n",
      "---  ------                   --------------  ----- \n",
      " 0   Address                  15148 non-null  object\n",
      " 1   Town/City                15148 non-null  object\n",
      " 2   Business Type            15148 non-null  object\n",
      " 3   Color                    15147 non-null  object\n",
      " 4   Municipality             15148 non-null  object\n",
      " 5   Security                 6892 non-null   object\n",
      " 6   Town Population          15147 non-null  object\n",
      " 7   Municipality Population  15148 non-null  object\n",
      "dtypes: object(8)\n",
      "memory usage: 946.9+ KB\n"
     ]
    }
   ],
   "source": [
    "ATM.info()"
   ]
  },
  {
   "cell_type": "code",
   "execution_count": 23,
   "metadata": {},
   "outputs": [
    {
     "data": {
      "text/plain": [
       "Address                    object\n",
       "Town/City                  object\n",
       "Business Type              object\n",
       "Color                      object\n",
       "Municipality               object\n",
       "Security                   object\n",
       "Town Population            object\n",
       "Municipality Population    object\n",
       "dtype: object"
      ]
     },
     "execution_count": 23,
     "metadata": {},
     "output_type": "execute_result"
    }
   ],
   "source": [
    "ATM.dtypes"
   ]
  },
  {
   "cell_type": "code",
   "execution_count": 24,
   "metadata": {},
   "outputs": [
    {
     "data": {
      "text/plain": [
       "4174"
      ]
     },
     "execution_count": 24,
     "metadata": {},
     "output_type": "execute_result"
    }
   ],
   "source": [
    "ATM.duplicated().sum()"
   ]
  },
  {
   "cell_type": "code",
   "execution_count": 58,
   "metadata": {},
   "outputs": [
    {
     "data": {
      "text/plain": [
       "Standard bank    2509\n",
       "FNB              1641\n",
       "Shopping         1548\n",
       "Resturant        1488\n",
       "Beauty           1313\n",
       "Absa             1252\n",
       "Gas Station      1245\n",
       "Capitec           994\n",
       "Internet Cafe     772\n",
       "Education         663\n",
       "Taxi Rank         625\n",
       "Stadiums          599\n",
       "Nedbank           499\n",
       "Name: Business Type, dtype: int64"
      ]
     },
     "execution_count": 58,
     "metadata": {},
     "output_type": "execute_result"
    }
   ],
   "source": [
    "ATM[\"Business Type\"].value_counts()"
   ]
  },
  {
   "cell_type": "code",
   "execution_count": 56,
   "metadata": {},
   "outputs": [
    {
     "data": {
      "text/plain": [
       "Johannesburg      3053\n",
       "Pretoria          2236\n",
       "Benoni            2097\n",
       "Soweto            1347\n",
       "Midrand            887\n",
       "Roodepoort         826\n",
       "Centurion          796\n",
       "Vereeniging        555\n",
       "Vanderbijlpark     544\n",
       "Springs            528\n",
       "Carletonville      500\n",
       "Krugersdorp        474\n",
       "Boksburg           447\n",
       "Brakpan            407\n",
       "Westonaria         251\n",
       "Diepsloot          194\n",
       "Krugerdorp           5\n",
       "Sandton              1\n",
       "Name: Town/City, dtype: int64"
      ]
     },
     "execution_count": 56,
     "metadata": {},
     "output_type": "execute_result"
    }
   ],
   "source": [
    "ATM[\"Town/City\"].value_counts()"
   ]
  },
  {
   "cell_type": "code",
   "execution_count": 57,
   "metadata": {},
   "outputs": [
    {
     "data": {
      "text/plain": [
       "City of Johannesburg Metropolitan Municipality    6216\n",
       "Ekurhuleni Metropolitan Municipality              3477\n",
       "City of Tshwane Metropolitan Municipality         3229\n",
       "Emfuleni Local Municipality                       1100\n",
       "Merafong City Local Municipality                   499\n",
       "West Rand District Municipality                    376\n",
       "Westonaria Local Municipality                      249\n",
       "Midvaal Local Municipality                           1\n",
       "Randfontein Local Municipality                       1\n",
       "Name: Municipality, dtype: int64"
      ]
     },
     "execution_count": 57,
     "metadata": {},
     "output_type": "execute_result"
    }
   ],
   "source": [
    "ATM[\"Municipality\"].value_counts()"
   ]
  },
  {
   "cell_type": "code",
   "execution_count": 33,
   "metadata": {},
   "outputs": [
    {
     "name": "stdout",
     "output_type": "stream",
     "text": [
      "Standard bank    2509\n",
      "FNB              1641\n",
      "Shopping         1548\n",
      "Resturant        1488\n",
      "Beauty           1313\n",
      "Absa             1252\n",
      "Gas Station      1245\n",
      "Capitec           994\n",
      "Internet Cafe     772\n",
      "Education         663\n",
      "Taxi Rank         625\n",
      "Stadiums          599\n",
      "Nedbank           499\n",
      "Name: Business Type, dtype: int64\n"
     ]
    }
   ],
   "source": [
    "\n",
    "# Business Type Distribution\n",
    "business_type_counts = ATM['Business Type'].value_counts()\n",
    "print(business_type_counts)"
   ]
  },
  {
   "cell_type": "code",
   "execution_count": 59,
   "metadata": {},
   "outputs": [
    {
     "name": "stdout",
     "output_type": "stream",
     "text": [
      "Business Type\n",
      "Absa             910,550.00910,550.00910,550.00910,550.00910,55...\n",
      "Beauty           140,000.00140,000.00140,000.00140,000.00140,00...\n",
      "Capitec          910,550.00910,550.00910,550.00910,550.00910,55...\n",
      "Education        910,550.00910,550.00910,550.00910,550.00910,55...\n",
      "FNB              140,000.00140,000.00140,000.00140,000.00140,00...\n",
      "Gas Station      910,550.00910,550.00910,550.00910,550.00910,55...\n",
      "Internet Cafe    910,550.00910,550.00910,550.00910,550.00910,55...\n",
      "Nedbank          140,000.00140,000.00140,000.00140,000.00140,00...\n",
      "Resturant        140,000.00140,000.00140,000.00140,000.00140,00...\n",
      "Shopping         140,000.00140,000.00140,000.00140,000.00140,00...\n",
      "Stadiums         910,550.00910,550.00910,550.00910,550.00910,55...\n",
      "Standard bank    140,000.00140,000.00140,000.00140,000.00140,00...\n",
      "Taxi Rank        910,550.00910,550.00910,550.00910,550.00910,55...\n",
      "Name: Town Population, dtype: object\n"
     ]
    }
   ],
   "source": [
    "# Business Type Popularity\n",
    "business_type_popularity = ATM.groupby('Business Type').sum()['Town Population']\n",
    "print(business_type_popularity)"
   ]
  },
  {
   "cell_type": "code",
   "execution_count": null,
   "metadata": {},
   "outputs": [],
   "source": [
    "\n",
    "# Business Type Color Coding\n",
    "color_mapping = {\n",
    "    'Type 1': 'red',\n",
    "    'Type 2': 'pink',\n",
    "    'Type 3': 'grey',\n",
    "    'Type 4': 'Orange',\n",
    "    'Type 5': 'yellow',\n",
    "    'Type 6': 'peach',\n",
    "    'Type 7': 'brown',\n",
    "    'Type 8': 'green',\n",
    "    'Type 9': 'Gold',\n",
    "    'Type 10': 'white',\n",
    "    'Type 11': 'black',\n",
    "    'Type 12': 'blue',\n",
    "    'Type 13':'purple'\n",
    "}\n",
    "\n",
    "colors = ATM['Business Type'].map(color_mapping)\n",
    "plt.scatter(ATM['Town/City'], ATM['Municipality'], c=colors)\n",
    "plt.show()\n",
    "# Create a scatter plot using the 'c' parameter\n",
    "\n",
    "plt.title('Business Type Color Coding')\n",
    "plt.xlabel('Town')\n",
    "plt.ylabel('Municipality')\n",
    "plt.show()"
   ]
  },
  {
   "cell_type": "code",
   "execution_count": 76,
   "metadata": {},
   "outputs": [
    {
     "data": {
      "image/png": "[encoded data removed]",
      "text/plain": [
       "<Figure size 640x480 with 1 Axes>"
      ]
     },
     "metadata": {},
     "output_type": "display_data"
    }
   ],
   "source": [
    "# Business Type Distribution Bar Chart\n",
    "business_type_counts = ATM['Business Type'].value_counts()\n",
    "plt.bar(business_type_counts.index, business_type_counts.values)\n",
    "plt.title('Business Type Distribution')\n",
    "plt.xlabel('Business Type')\n",
    "plt.ylabel('Count')\n",
    "\n",
    "\n",
    "# Rotate x-labels by 45 degrees\n",
    "plt.xticks(rotation=80)\n",
    "plt.show()"
   ]
  },
  {
   "cell_type": "code",
   "execution_count": null,
   "metadata": {},
   "outputs": [],
   "source": [
    "# ATM Availability Pie Chart\n",
    "atm_counts = ATM['ATMS'].value_counts()\n",
    "plt.pie(atm_counts.values, labels=atm_counts.index)\n",
    "plt.title('ATM Availability')\n",
    "plt.show()"
   ]
  },
  {
   "cell_type": "code",
   "execution_count": null,
   "metadata": {},
   "outputs": [],
   "source": [
    "from PIL import Image\n",
    "\n",
    "\n",
    "# Load image file using PIL\n",
    "img = Image.open('/Users/damac20/Downloads/Gauteng_ATM-EASE_data.csv')\n",
    "\n",
    "# Resize image\n",
    "img = img.resize((1024, 768))\n",
    "\n",
    "# Plot image using matplotlib\n",
    "plt.imshow(img)\n",
    "plt.show()\n",
    "\n",
    "\n",
    "\n",
    "\n",
    "\n",
    "\n",
    "\n",
    "# Business Type Popularity Horizontal Bar Chart\n",
    "business_type_popularity = ATM.groupby('Business Type').sum()['Town Population']\n",
    "business_type_popularity = business_type_popularity.sort_values(ascending=False)\n",
    "plt.barh(business_type_popularity.index, business_type_popularity.values)\n",
    "plt.title('Business Type Popularity')\n",
    "plt.xlabel('Population')\n",
    "plt.ylabel('Business Type')\n",
    "plt.show()"
   ]
  },
  {
   "cell_type": "code",
   "execution_count": 64,
   "metadata": {},
   "outputs": [
    {
     "data": {
      "text/html": [
       "<div>\n",
       "<style scoped>\n",
       "    .dataframe tbody tr th:only-of-type {\n",
       "        vertical-align: middle;\n",
       "    }\n",
       "\n",
       "    .dataframe tbody tr th {\n",
       "        vertical-align: top;\n",
       "    }\n",
       "\n",
       "    .dataframe thead th {\n",
       "        text-align: right;\n",
       "    }\n",
       "</style>\n",
       "<table border=\"1\" class=\"dataframe\">\n",
       "  <thead>\n",
       "    <tr style=\"text-align: right;\">\n",
       "      <th></th>\n",
       "      <th>Address</th>\n",
       "      <th>Town/City</th>\n",
       "      <th>Business Type</th>\n",
       "      <th>Color</th>\n",
       "      <th>Municipality</th>\n",
       "      <th>Security</th>\n",
       "      <th>Town Population</th>\n",
       "      <th>Municipality Population</th>\n",
       "    </tr>\n",
       "  </thead>\n",
       "  <tbody>\n",
       "    <tr>\n",
       "      <th>count</th>\n",
       "      <td>15148</td>\n",
       "      <td>15148</td>\n",
       "      <td>15148</td>\n",
       "      <td>15147</td>\n",
       "      <td>15148</td>\n",
       "      <td>6892</td>\n",
       "      <td>15147</td>\n",
       "      <td>15148</td>\n",
       "    </tr>\n",
       "    <tr>\n",
       "      <th>unique</th>\n",
       "      <td>10207</td>\n",
       "      <td>18</td>\n",
       "      <td>13</td>\n",
       "      <td>13</td>\n",
       "      <td>9</td>\n",
       "      <td>4</td>\n",
       "      <td>24</td>\n",
       "      <td>10</td>\n",
       "    </tr>\n",
       "    <tr>\n",
       "      <th>top</th>\n",
       "      <td>CNR BOLANI and KOMA ROADS</td>\n",
       "      <td>Johannesburg</td>\n",
       "      <td>Standard bank</td>\n",
       "      <td>Blue</td>\n",
       "      <td>City of Johannesburg Metropolitan Municipality</td>\n",
       "      <td>Safe</td>\n",
       "      <td>910,550.00</td>\n",
       "      <td>5,600,000.00</td>\n",
       "    </tr>\n",
       "    <tr>\n",
       "      <th>freq</th>\n",
       "      <td>36</td>\n",
       "      <td>3053</td>\n",
       "      <td>2509</td>\n",
       "      <td>2509</td>\n",
       "      <td>6216</td>\n",
       "      <td>4736</td>\n",
       "      <td>3316</td>\n",
       "      <td>6058</td>\n",
       "    </tr>\n",
       "  </tbody>\n",
       "</table>\n",
       "</div>"
      ],
      "text/plain": [
       "                          Address     Town/City  Business Type  Color  \\\n",
       "count                       15148         15148          15148  15147   \n",
       "unique                      10207            18             13     13   \n",
       "top     CNR BOLANI and KOMA ROADS  Johannesburg  Standard bank   Blue   \n",
       "freq                           36          3053           2509   2509   \n",
       "\n",
       "                                          Municipality Security  \\\n",
       "count                                            15148     6892   \n",
       "unique                                               9        4   \n",
       "top     City of Johannesburg Metropolitan Municipality     Safe   \n",
       "freq                                              6216     4736   \n",
       "\n",
       "       Town Population Municipality Population  \n",
       "count            15147                   15148  \n",
       "unique              24                      10  \n",
       "top         910,550.00            5,600,000.00  \n",
       "freq              3316                    6058  "
      ]
     },
     "execution_count": 64,
     "metadata": {},
     "output_type": "execute_result"
    }
   ],
   "source": [
    "ATM.describe()"
   ]
  },
  {
   "cell_type": "code",
   "execution_count": null,
   "metadata": {},
   "outputs": [],
   "source": [
    "# Population by Town/Municipality Bar Chart\n",
    "town_population = ATM.groupby('Town/City')['Town Population'].sum()\n",
    "municipality_population = ATM.groupby('Municipality')['Municipality Population'].sum()\n",
    "plt.bar(town_population.index, town_population.values, label=' Population per Town')\n",
    "plt.bar(municipality_population.index, municipality_population.values, label='Municipality Population')\n",
    "plt.title('Population by Town/Municipality')\n",
    "plt.xlabel('Location')\n",
    "plt.ylabel('Population')\n",
    "plt.legend()\n",
    "plt.show()"
   ]
  },
  {
   "cell_type": "code",
   "execution_count": null,
   "metadata": {},
   "outputs": [],
   "source": [
    "\n",
    "# Population Density Vertical Bar Chart\n",
    "population_density = ATM.groupby('Municipality').sum()['Municipality Population'] / ATM['Municipality'].nunique()\n",
    "population_density = population_density.sort_values(ascending=False)\n",
    "plt.bar(population_density.index, population_density.values)\n",
    "plt.title('Population Density')\n",
    "plt.xlabel('Municipality')\n",
    "plt.ylabel('Population Density')\n",
    "plt.xticks(rotation=90)\n",
    "plt.show()"
   ]
  },
  {
   "cell_type": "code",
   "execution_count": 78,
   "metadata": {},
   "outputs": [
    {
     "data": {
      "image/png": "[encoded data removed]",
      "text/plain": [
       "<Figure size 640x480 with 1 Axes>"
      ]
     },
     "metadata": {},
     "output_type": "display_data"
    }
   ],
   "source": [
    "# Municipality Population Scatter Plot\n",
    "plt.scatter(ATM['Municipality'], ATM['Municipality Population'])\n",
    "plt.title(' Population Per Municipality ')\n",
    "plt.xlabel('Municipality')\n",
    "plt.ylabel('Population')\n",
    "plt.xticks(rotation=85)\n",
    "plt.show()"
   ]
  },
  {
   "cell_type": "code",
   "execution_count": null,
   "metadata": {},
   "outputs": [],
   "source": [
    "# Population Distribution Box Plot\n",
    "plt.boxplot([ATM['Town Population'], ATM['Municipality Population']])\n",
    "plt.title('Population Distribution')\n",
    "plt.xticks([1, 2], ['Town', 'Municipality'])\n",
    "plt.ylabel('Population')\n",
    "plt.show()"
   ]
  }
 ],
 "metadata": {
  "kernelspec": {
   "display_name": "Python 3.9.13 ('base')",
   "language": "python",
   "name": "python3"
  },
  "language_info": {
   "codemirror_mode": {
    "name": "ipython",
    "version": 3
   },
   "file_extension": ".py",
   "mimetype": "text/x-python",
   "name": "python",
   "nbconvert_exporter": "python",
   "pygments_lexer": "ipython3",
   "version": "3.9.13"
  },
  "orig_nbformat": 4,
  "vscode": {
   "interpreter": {
    "hash": "d57bd1ee90d39bfe3685dca5da57b8bea5e6d64e85ef83c0887d517b94febbc0"
   }
  }
 },
 "nbformat": 4,
 "nbformat_minor": 2
}
