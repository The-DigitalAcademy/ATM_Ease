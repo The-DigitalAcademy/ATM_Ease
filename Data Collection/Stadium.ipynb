{
 "cells": [
  {
   "cell_type": "code",
   "execution_count": 186,
   "metadata": {},
   "outputs": [],
   "source": [
    "import pandas as pd"
   ]
  },
  {
   "cell_type": "code",
   "execution_count": 187,
   "metadata": {},
   "outputs": [],
   "source": [
    "df = pd.read_csv('Stadims_arenas.csv')"
   ]
  },
  {
   "cell_type": "code",
   "execution_count": 188,
   "metadata": {},
   "outputs": [
    {
     "data": {
      "text/html": [
       "<div>\n",
       "<style scoped>\n",
       "    .dataframe tbody tr th:only-of-type {\n",
       "        vertical-align: middle;\n",
       "    }\n",
       "\n",
       "    .dataframe tbody tr th {\n",
       "        vertical-align: top;\n",
       "    }\n",
       "\n",
       "    .dataframe thead th {\n",
       "        text-align: right;\n",
       "    }\n",
       "</style>\n",
       "<table border=\"1\" class=\"dataframe\">\n",
       "  <thead>\n",
       "    <tr style=\"text-align: right;\">\n",
       "      <th></th>\n",
       "      <th>ATM Address</th>\n",
       "      <th>Town</th>\n",
       "      <th>Postal Code</th>\n",
       "      <th>Name</th>\n",
       "    </tr>\n",
       "  </thead>\n",
       "  <tbody>\n",
       "    <tr>\n",
       "      <th>0</th>\n",
       "      <td>26 Lynnwood Rd, Arcadia, Pretoria, 0007, South...</td>\n",
       "      <td>Pretoria</td>\n",
       "      <td>[' 0007']</td>\n",
       "      <td>Loftus</td>\n",
       "    </tr>\n",
       "    <tr>\n",
       "      <th>1</th>\n",
       "      <td>471 Grosvenor St, Hatfield, Pretoria, 0028, So...</td>\n",
       "      <td>Pretoria</td>\n",
       "      <td>[' 0028']</td>\n",
       "      <td>Hatfield</td>\n",
       "    </tr>\n",
       "    <tr>\n",
       "      <th>2</th>\n",
       "      <td>130 Maltzan St, Pretoria West, Pretoria, 0001,...</td>\n",
       "      <td>Pretoria</td>\n",
       "      <td>[' 0001']</td>\n",
       "      <td>Pilditch</td>\n",
       "    </tr>\n",
       "    <tr>\n",
       "      <th>3</th>\n",
       "      <td>Cnr Maunde &amp;amp;, Hlahla St, Atteridgeville, P...</td>\n",
       "      <td>Pretoria</td>\n",
       "      <td>[' 0006']</td>\n",
       "      <td>Lucas</td>\n",
       "    </tr>\n",
       "    <tr>\n",
       "      <th>4</th>\n",
       "      <td>56 Totius St, Groenkloof, Pretoria, 0181, Sout...</td>\n",
       "      <td>Pretoria</td>\n",
       "      <td>[' 0181']</td>\n",
       "      <td>Harlequins</td>\n",
       "    </tr>\n",
       "  </tbody>\n",
       "</table>\n",
       "</div>"
      ],
      "text/plain": [
       "                                         ATM Address      Town Postal Code  \\\n",
       "0  26 Lynnwood Rd, Arcadia, Pretoria, 0007, South...  Pretoria   [' 0007']   \n",
       "1  471 Grosvenor St, Hatfield, Pretoria, 0028, So...  Pretoria   [' 0028']   \n",
       "2  130 Maltzan St, Pretoria West, Pretoria, 0001,...  Pretoria   [' 0001']   \n",
       "3  Cnr Maunde &amp;, Hlahla St, Atteridgeville, P...  Pretoria   [' 0006']   \n",
       "4  56 Totius St, Groenkloof, Pretoria, 0181, Sout...  Pretoria   [' 0181']   \n",
       "\n",
       "         Name  \n",
       "0      Loftus  \n",
       "1    Hatfield  \n",
       "2    Pilditch  \n",
       "3       Lucas  \n",
       "4  Harlequins  "
      ]
     },
     "execution_count": 188,
     "metadata": {},
     "output_type": "execute_result"
    }
   ],
   "source": [
    "df.head()"
   ]
  },
  {
   "cell_type": "code",
   "execution_count": 189,
   "metadata": {},
   "outputs": [],
   "source": [
    "#deleting columns \n",
    "df = df.drop('Postal Code', axis=1)\n",
    "df = df.drop('Name', axis=1)\n"
   ]
  },
  {
   "cell_type": "code",
   "execution_count": 190,
   "metadata": {},
   "outputs": [
    {
     "data": {
      "text/html": [
       "<div>\n",
       "<style scoped>\n",
       "    .dataframe tbody tr th:only-of-type {\n",
       "        vertical-align: middle;\n",
       "    }\n",
       "\n",
       "    .dataframe tbody tr th {\n",
       "        vertical-align: top;\n",
       "    }\n",
       "\n",
       "    .dataframe thead th {\n",
       "        text-align: right;\n",
       "    }\n",
       "</style>\n",
       "<table border=\"1\" class=\"dataframe\">\n",
       "  <thead>\n",
       "    <tr style=\"text-align: right;\">\n",
       "      <th></th>\n",
       "      <th>ATM Address</th>\n",
       "      <th>Town</th>\n",
       "      <th>Business Type</th>\n",
       "    </tr>\n",
       "  </thead>\n",
       "  <tbody>\n",
       "    <tr>\n",
       "      <th>0</th>\n",
       "      <td>26 Lynnwood Rd, Arcadia, Pretoria, 0007, South...</td>\n",
       "      <td>Pretoria</td>\n",
       "      <td>Stadiums and Arenas</td>\n",
       "    </tr>\n",
       "    <tr>\n",
       "      <th>1</th>\n",
       "      <td>471 Grosvenor St, Hatfield, Pretoria, 0028, So...</td>\n",
       "      <td>Pretoria</td>\n",
       "      <td>Stadiums and Arenas</td>\n",
       "    </tr>\n",
       "    <tr>\n",
       "      <th>2</th>\n",
       "      <td>130 Maltzan St, Pretoria West, Pretoria, 0001,...</td>\n",
       "      <td>Pretoria</td>\n",
       "      <td>Stadiums and Arenas</td>\n",
       "    </tr>\n",
       "    <tr>\n",
       "      <th>3</th>\n",
       "      <td>Cnr Maunde &amp;amp;, Hlahla St, Atteridgeville, P...</td>\n",
       "      <td>Pretoria</td>\n",
       "      <td>Stadiums and Arenas</td>\n",
       "    </tr>\n",
       "    <tr>\n",
       "      <th>4</th>\n",
       "      <td>56 Totius St, Groenkloof, Pretoria, 0181, Sout...</td>\n",
       "      <td>Pretoria</td>\n",
       "      <td>Stadiums and Arenas</td>\n",
       "    </tr>\n",
       "  </tbody>\n",
       "</table>\n",
       "</div>"
      ],
      "text/plain": [
       "                                         ATM Address      Town  \\\n",
       "0  26 Lynnwood Rd, Arcadia, Pretoria, 0007, South...  Pretoria   \n",
       "1  471 Grosvenor St, Hatfield, Pretoria, 0028, So...  Pretoria   \n",
       "2  130 Maltzan St, Pretoria West, Pretoria, 0001,...  Pretoria   \n",
       "3  Cnr Maunde &amp;, Hlahla St, Atteridgeville, P...  Pretoria   \n",
       "4  56 Totius St, Groenkloof, Pretoria, 0181, Sout...  Pretoria   \n",
       "\n",
       "         Business Type  \n",
       "0  Stadiums and Arenas  \n",
       "1  Stadiums and Arenas  \n",
       "2  Stadiums and Arenas  \n",
       "3  Stadiums and Arenas  \n",
       "4  Stadiums and Arenas  "
      ]
     },
     "execution_count": 190,
     "metadata": {},
     "output_type": "execute_result"
    }
   ],
   "source": [
    "df['Business Type'] = 'Stadiums and Arenas'\n",
    "df.head()"
   ]
  },
  {
   "cell_type": "code",
   "execution_count": 191,
   "metadata": {},
   "outputs": [],
   "source": [
    "# remove square brackets, commas, single quotes, and numbers from 'Town'\n",
    "df['Town'] = df['Town'].str.replace('[', '', regex=False).str.replace(']', '', regex=False).str.replace(',', '', regex=False).str.replace(\"'\", '', regex=False).str.replace('\\d+', '', regex=True)\n"
   ]
  },
  {
   "cell_type": "code",
   "execution_count": 192,
   "metadata": {},
   "outputs": [
    {
     "data": {
      "text/html": [
       "<div>\n",
       "<style scoped>\n",
       "    .dataframe tbody tr th:only-of-type {\n",
       "        vertical-align: middle;\n",
       "    }\n",
       "\n",
       "    .dataframe tbody tr th {\n",
       "        vertical-align: top;\n",
       "    }\n",
       "\n",
       "    .dataframe thead th {\n",
       "        text-align: right;\n",
       "    }\n",
       "</style>\n",
       "<table border=\"1\" class=\"dataframe\">\n",
       "  <thead>\n",
       "    <tr style=\"text-align: right;\">\n",
       "      <th></th>\n",
       "      <th>ATM Address</th>\n",
       "      <th>Town</th>\n",
       "      <th>Business Type</th>\n",
       "    </tr>\n",
       "  </thead>\n",
       "  <tbody>\n",
       "    <tr>\n",
       "      <th>0</th>\n",
       "      <td>26 Lynnwood Rd, Arcadia, Pretoria, 0007, South...</td>\n",
       "      <td>Pretoria</td>\n",
       "      <td>Stadiums and Arenas</td>\n",
       "    </tr>\n",
       "    <tr>\n",
       "      <th>1</th>\n",
       "      <td>471 Grosvenor St, Hatfield, Pretoria, 0028, So...</td>\n",
       "      <td>Pretoria</td>\n",
       "      <td>Stadiums and Arenas</td>\n",
       "    </tr>\n",
       "    <tr>\n",
       "      <th>2</th>\n",
       "      <td>130 Maltzan St, Pretoria West, Pretoria, 0001,...</td>\n",
       "      <td>Pretoria</td>\n",
       "      <td>Stadiums and Arenas</td>\n",
       "    </tr>\n",
       "    <tr>\n",
       "      <th>3</th>\n",
       "      <td>Cnr Maunde &amp;amp;, Hlahla St, Atteridgeville, P...</td>\n",
       "      <td>Pretoria</td>\n",
       "      <td>Stadiums and Arenas</td>\n",
       "    </tr>\n",
       "    <tr>\n",
       "      <th>4</th>\n",
       "      <td>56 Totius St, Groenkloof, Pretoria, 0181, Sout...</td>\n",
       "      <td>Pretoria</td>\n",
       "      <td>Stadiums and Arenas</td>\n",
       "    </tr>\n",
       "    <tr>\n",
       "      <th>...</th>\n",
       "      <td>...</td>\n",
       "      <td>...</td>\n",
       "      <td>...</td>\n",
       "    </tr>\n",
       "    <tr>\n",
       "      <th>665</th>\n",
       "      <td>Witpoort (Beaulieu), Midrand, 1684, South Africa</td>\n",
       "      <td>Midrand</td>\n",
       "      <td>Stadiums and Arenas</td>\n",
       "    </tr>\n",
       "    <tr>\n",
       "      <th>666</th>\n",
       "      <td>Witpoort (Beaulieu), Midrand, 1684, South Africa</td>\n",
       "      <td>Midrand</td>\n",
       "      <td>Stadiums and Arenas</td>\n",
       "    </tr>\n",
       "    <tr>\n",
       "      <th>667</th>\n",
       "      <td>Witpoort (Beaulieu), Midrand, 1684, South Africa</td>\n",
       "      <td>Midrand</td>\n",
       "      <td>Stadiums and Arenas</td>\n",
       "    </tr>\n",
       "    <tr>\n",
       "      <th>668</th>\n",
       "      <td>In Customer Care, Vodacom Blvd Shop 11, TechCa...</td>\n",
       "      <td>Midrand</td>\n",
       "      <td>Stadiums and Arenas</td>\n",
       "    </tr>\n",
       "    <tr>\n",
       "      <th>669</th>\n",
       "      <td>S Park Ln, New Doornfontein, Johannesburg, 209...</td>\n",
       "      <td>Johannesburg</td>\n",
       "      <td>Stadiums and Arenas</td>\n",
       "    </tr>\n",
       "  </tbody>\n",
       "</table>\n",
       "<p>670 rows × 3 columns</p>\n",
       "</div>"
      ],
      "text/plain": [
       "                                           ATM Address           Town  \\\n",
       "0    26 Lynnwood Rd, Arcadia, Pretoria, 0007, South...       Pretoria   \n",
       "1    471 Grosvenor St, Hatfield, Pretoria, 0028, So...       Pretoria   \n",
       "2    130 Maltzan St, Pretoria West, Pretoria, 0001,...       Pretoria   \n",
       "3    Cnr Maunde &amp;, Hlahla St, Atteridgeville, P...       Pretoria   \n",
       "4    56 Totius St, Groenkloof, Pretoria, 0181, Sout...       Pretoria   \n",
       "..                                                 ...            ...   \n",
       "665   Witpoort (Beaulieu), Midrand, 1684, South Africa        Midrand   \n",
       "666   Witpoort (Beaulieu), Midrand, 1684, South Africa        Midrand   \n",
       "667   Witpoort (Beaulieu), Midrand, 1684, South Africa        Midrand   \n",
       "668  In Customer Care, Vodacom Blvd Shop 11, TechCa...        Midrand   \n",
       "669  S Park Ln, New Doornfontein, Johannesburg, 209...   Johannesburg   \n",
       "\n",
       "           Business Type  \n",
       "0    Stadiums and Arenas  \n",
       "1    Stadiums and Arenas  \n",
       "2    Stadiums and Arenas  \n",
       "3    Stadiums and Arenas  \n",
       "4    Stadiums and Arenas  \n",
       "..                   ...  \n",
       "665  Stadiums and Arenas  \n",
       "666  Stadiums and Arenas  \n",
       "667  Stadiums and Arenas  \n",
       "668  Stadiums and Arenas  \n",
       "669  Stadiums and Arenas  \n",
       "\n",
       "[670 rows x 3 columns]"
      ]
     },
     "execution_count": 192,
     "metadata": {},
     "output_type": "execute_result"
    }
   ],
   "source": [
    "df"
   ]
  },
  {
   "cell_type": "code",
   "execution_count": 193,
   "metadata": {},
   "outputs": [],
   "source": [
    "# replace values in the 'Town' column\n",
    "df['Town'] = df['Town'].replace({'Johannesburg ': 'Johannesburg', ' Johannesburg': 'Johannesburg', ' Johannesburg South': 'Johannesburg', ' Johannnesburg': 'Johannesburg', ' Johannesburg ': 'Johannesburg', 'Roodepoort':'Roodepoort',' Roodepoort':'Roodepoort' })\n",
    "df['Town'] = df['Town'].replace({' Leeuwpoort -Ir': 'Leeuwpoort', 'Soweto': 'Soweto', ' Soweto': 'Soweto', 'Paardeplaats  IQ': 'Paardeplaats', 'Heidelberg - GP': 'Heidelberg', 'Syferfontein -Ir': 'Syferfontein', 'GERMISTON': 'Germiston','BENONI': 'Benoni', ' Benoni':'Benoni'})\n",
    "df['Town'] = df['Town'].replace({' Meadowlands ': 'Meadowlands', ' Meadowlands East': 'Meadowlands', ' Meadowlands West': 'Meadowlands'})\n",
    "\n"
   ]
  },
  {
   "cell_type": "code",
   "execution_count": 194,
   "metadata": {},
   "outputs": [],
   "source": [
    "# replace values in the 'Town' column\n",
    "df['Town'] = df['Town'].replace({\n",
    "    'Johannesburg ': 'Johannesburg',\n",
    "    ' Johannesburg': 'Johannesburg',\n",
    "    ' Johannesburg South': 'Johannesburg',\n",
    "    ' Johannnesburg': 'Johannesburg',\n",
    "    ' Johannesburg ': 'Johannesburg',\n",
    "    'Roodepoort': 'Roodepoort',\n",
    "    ' Roodepoort': 'Roodepoort',\n",
    "    ' Leeuwpoort -Ir': 'Leeuwpoort',\n",
    "    ' Leeuwpoort-Ir': 'Leeuwpoort',\n",
    "    'Soweto': 'Soweto',\n",
    "    ' Soweto': 'Soweto',\n",
    "    'Paardeplaats  IQ': 'Paardeplaats',\n",
    "    'Heidelberg - GP': 'Heidelberg',\n",
    "    'Heidelberg-GP': 'Heidelberg',\n",
    "    'Syferfontein -Ir': 'Syferfontein',\n",
    "    'Syferfontein-Ir': 'Syferfontein',\n",
    "    'GERMISTON': 'Germiston',\n",
    "    'BENONI': 'Benoni',\n",
    "    ' Benoni': 'Benoni',\n",
    "    ' Meadowlands ': 'Meadowlands',\n",
    "    ' Meadowlands East': 'Meadowlands',\n",
    "    ' Meadowlands West': 'Meadowlands'\n",
    "})\n"
   ]
  },
  {
   "cell_type": "code",
   "execution_count": 195,
   "metadata": {},
   "outputs": [
    {
     "name": "stdout",
     "output_type": "stream",
     "text": [
      "['Pretoria' 'Johannesburg' 'Randfontein' 'Soweto' 'Roodepoort' 'Randburg'\n",
      " 'Centurion' 'Sandton' 'Edenvale' ' Centurion' ' Pretoria' ' Sandton'\n",
      " ' Tembisa' ' Edenvale' ' Randburg' ' Midrand' ' Katlehong' ' Germiston'\n",
      " 'Wolfelea AH' ' Dawnview' ' Kudube' ' South Africa' ' Alberton'\n",
      " ' Fourways' '' 'Orange Farm' 'Vanderbijlpark' ' Boksburg' ' Vosloorus'\n",
      " ' Brakpan' 'Benoni' 'Meadowlands' 'Lenasia' ' Krugersdorp' ' Alexandra'\n",
      " 'Diepsloot' ' Heidelberg - GP' ' Syferfontein -Ir' ' Bapsfontein'\n",
      " 'Leeuwpoort' ' Vanderbijlpark' ' Sasolburg' ' Vereeniging'\n",
      " ' Kempton Park' ' BENONI' ' Lenasia' ' Ennerdale' ' Randfontein'\n",
      " 'Paardeplaats' ' Witpoortje  IQ' 'Doornfointein' ' Parys' ' Springs'\n",
      " ' Driefontein -Ir' ' GERMISTON' ' Carletonville' 'Vereeniging'\n",
      " ' Potchefstroom' 'N']\n"
     ]
    }
   ],
   "source": [
    "unique_towns = df['Town'].unique()\n",
    "print(unique_towns)"
   ]
  },
  {
   "cell_type": "markdown",
   "metadata": {},
   "source": [
    "# function to extract town from address\n",
    "def extract_town(ATM_Address):\n",
    "    towns = ['Pretoria', 'Johannesburg', 'Randfontein', 'Soweto', 'Roodepoort', 'Randburg',\n",
    "             'Centurion', 'Sandton', 'Edenvale', ' Centurion', ' Pretoria', ' Sandton',\n",
    "             ' Tembisa', ' Edenvale', ' Randburg', ' Midrand', ' Katlehong', ' Germiston',\n",
    "             'Wolfelea AH', ' Dawnview', ' Kudube', ' Alberton',\n",
    "             ' Fourways', '', 'Orange Farm', 'Vanderbijlpark', ' Boksburg', ' Vosloorus',\n",
    "             ' Brakpan', 'Benoni', 'Meadowlands', 'Lenasia', ' Krugersdorp', ' Alexandra',\n",
    "             'Diepsloot', ' Heidelberg ', ' Syferfontein', ' Bapsfontein',\n",
    "             'Leeuwpoort', ' Vanderbijlpark', ' Sasolburg', ' Vereeniging',\n",
    "             ' Kempton Park', ' BENONI', ' Lenasia', ' Ennerdale', ' Randfontein',\n",
    "             'Paardeplaats', ' Witpoortje  ', 'Doornfointein', ' Parys', ' Springs',\n",
    "             ' Driefontein ', ' Carletonville', 'Vereeniging',\n",
    "             ' Potchefstroom'] # list of all possible towns\n",
    "    for town in towns:\n",
    "        if town in ATM_Address:\n",
    "            return town\n",
    "    return ''\n",
    "\n",
    "# apply function to 'ATM Address' column to extract town\n",
    "df['Town'] = df['ATM Address'].apply(extract_town)\n",
    "\n"
   ]
  },
  {
   "cell_type": "code",
   "execution_count": 196,
   "metadata": {},
   "outputs": [],
   "source": [
    "import re\n",
    "\n",
    "# function to extract town from address\n",
    "def extract_town(ATM_Address):\n",
    "    towns = ['Pretoria', 'Johannesburg', 'Randfontein', 'Soweto', 'Roodepoort', 'Randburg',\n",
    "             'Centurion', 'Sandton', 'Edenvale', 'Tembisa', 'Midrand', 'Katlehong', 'Germiston', 'Wolfelea ', 'Dawnview', 'Kudube', 'Alberton',\n",
    "             'Fourways', 'Orange Farm', 'Vanderbijlpark', 'Boksburg', 'Vosloorus', 'Brakpan', 'Benoni', 'Meadowlands', 'Lenasia', 'Krugersdorp', 'Alexandra',\n",
    "             'Diepsloot', 'Heidelberg ', 'Syferfontein ', 'Bapsfontein', 'Leeuwpoort', 'Sasolburg', 'Vereeniging', 'Kempton Park', 'Ennerdale', 'Randfontein',\n",
    "             'Paardeplaats', 'Witpoortje  ', 'Doornfointein', 'Parys', 'Springs', 'Driefontein ', 'Carletonville', 'Potchefstroom', ] \n",
    "\n",
    "    # iterate over towns list and try to match with ATM_Address using regular expressions\n",
    "    for town in towns:\n",
    "        if re.search(r'\\b{}\\b'.format(town), ATM_Address, re.IGNORECASE):\n",
    "            return town\n",
    "    # if no exact match, split both the address and towns into words and check for match\n",
    "    address_words = ATM_Address.split()\n",
    "    for word in address_words:\n",
    "        for town in towns:\n",
    "            if word.lower() in town.lower():\n",
    "                return town\n",
    "    return ''\n",
    "\n",
    "# apply function to 'ATM Address' column to extract town\n",
    "df['Town'] = df['ATM Address'].apply(extract_town)\n"
   ]
  },
  {
   "cell_type": "code",
   "execution_count": 197,
   "metadata": {},
   "outputs": [
    {
     "data": {
      "text/html": [
       "<div>\n",
       "<style scoped>\n",
       "    .dataframe tbody tr th:only-of-type {\n",
       "        vertical-align: middle;\n",
       "    }\n",
       "\n",
       "    .dataframe tbody tr th {\n",
       "        vertical-align: top;\n",
       "    }\n",
       "\n",
       "    .dataframe thead th {\n",
       "        text-align: right;\n",
       "    }\n",
       "</style>\n",
       "<table border=\"1\" class=\"dataframe\">\n",
       "  <thead>\n",
       "    <tr style=\"text-align: right;\">\n",
       "      <th></th>\n",
       "      <th>ATM Address</th>\n",
       "      <th>Town</th>\n",
       "      <th>Business Type</th>\n",
       "    </tr>\n",
       "  </thead>\n",
       "  <tbody>\n",
       "    <tr>\n",
       "      <th>106</th>\n",
       "      <td>Klip Rivier Drive, Three Rivers</td>\n",
       "      <td></td>\n",
       "      <td>Stadiums and Arenas</td>\n",
       "    </tr>\n",
       "    <tr>\n",
       "      <th>115</th>\n",
       "      <td>Mavuso St, Duduza, Johannnesburg, 1496, South ...</td>\n",
       "      <td></td>\n",
       "      <td>Stadiums and Arenas</td>\n",
       "    </tr>\n",
       "    <tr>\n",
       "      <th>118</th>\n",
       "      <td>Delville Noordweg</td>\n",
       "      <td></td>\n",
       "      <td>Stadiums and Arenas</td>\n",
       "    </tr>\n",
       "    <tr>\n",
       "      <th>120</th>\n",
       "      <td>Mavuso St, Duduza, Johannnesburg, 1496, South ...</td>\n",
       "      <td></td>\n",
       "      <td>Stadiums and Arenas</td>\n",
       "    </tr>\n",
       "    <tr>\n",
       "      <th>138</th>\n",
       "      <td>Hendrik Alberts Rd, Thaba Tswane</td>\n",
       "      <td></td>\n",
       "      <td>Stadiums and Arenas</td>\n",
       "    </tr>\n",
       "    <tr>\n",
       "      <th>...</th>\n",
       "      <td>...</td>\n",
       "      <td>...</td>\n",
       "      <td>...</td>\n",
       "    </tr>\n",
       "    <tr>\n",
       "      <th>585</th>\n",
       "      <td>Citra 2</td>\n",
       "      <td></td>\n",
       "      <td>Stadiums and Arenas</td>\n",
       "    </tr>\n",
       "    <tr>\n",
       "      <th>599</th>\n",
       "      <td>211 Mzilikatse Street, Mofolo Central</td>\n",
       "      <td></td>\n",
       "      <td>Stadiums and Arenas</td>\n",
       "    </tr>\n",
       "    <tr>\n",
       "      <th>621</th>\n",
       "      <td>3137 Diokane Street</td>\n",
       "      <td></td>\n",
       "      <td>Stadiums and Arenas</td>\n",
       "    </tr>\n",
       "    <tr>\n",
       "      <th>624</th>\n",
       "      <td>Chris Hani Rd. Klipspruit</td>\n",
       "      <td></td>\n",
       "      <td>Stadiums and Arenas</td>\n",
       "    </tr>\n",
       "    <tr>\n",
       "      <th>641</th>\n",
       "      <td>Mavuso St, Duduza, Johannnesburg, 1496, South ...</td>\n",
       "      <td></td>\n",
       "      <td>Stadiums and Arenas</td>\n",
       "    </tr>\n",
       "  </tbody>\n",
       "</table>\n",
       "<p>71 rows × 3 columns</p>\n",
       "</div>"
      ],
      "text/plain": [
       "                                           ATM Address Town  \\\n",
       "106                    Klip Rivier Drive, Three Rivers        \n",
       "115  Mavuso St, Duduza, Johannnesburg, 1496, South ...        \n",
       "118                                  Delville Noordweg        \n",
       "120  Mavuso St, Duduza, Johannnesburg, 1496, South ...        \n",
       "138                   Hendrik Alberts Rd, Thaba Tswane        \n",
       "..                                                 ...  ...   \n",
       "585                                            Citra 2        \n",
       "599              211 Mzilikatse Street, Mofolo Central        \n",
       "621                                3137 Diokane Street        \n",
       "624                          Chris Hani Rd. Klipspruit        \n",
       "641  Mavuso St, Duduza, Johannnesburg, 1496, South ...        \n",
       "\n",
       "           Business Type  \n",
       "106  Stadiums and Arenas  \n",
       "115  Stadiums and Arenas  \n",
       "118  Stadiums and Arenas  \n",
       "120  Stadiums and Arenas  \n",
       "138  Stadiums and Arenas  \n",
       "..                   ...  \n",
       "585  Stadiums and Arenas  \n",
       "599  Stadiums and Arenas  \n",
       "621  Stadiums and Arenas  \n",
       "624  Stadiums and Arenas  \n",
       "641  Stadiums and Arenas  \n",
       "\n",
       "[71 rows x 3 columns]"
      ]
     },
     "execution_count": 197,
     "metadata": {},
     "output_type": "execute_result"
    }
   ],
   "source": [
    "df[df['Town'] == '']"
   ]
  },
  {
   "cell_type": "code",
   "execution_count": 198,
   "metadata": {},
   "outputs": [],
   "source": [
    "# replace empty rows with \"unknown\" in the 'Town' column\n",
    "df['Town'].replace('', 'unknown', inplace=True)\n",
    "\n",
    "# delete rows with \"unknown\" in the 'Town' column\n",
    "# dd = df.drop(df[df['Town'] == 'unknown'].index, inplace=True)\n",
    "new_df = df[df.Town != 'unknown']\n"
   ]
  },
  {
   "cell_type": "code",
   "execution_count": 199,
   "metadata": {},
   "outputs": [
    {
     "name": "stdout",
     "output_type": "stream",
     "text": [
      "                                           ATM Address          Town  \\\n",
      "0    26 Lynnwood Rd, Arcadia, Pretoria, 0007, South...      Pretoria   \n",
      "1    471 Grosvenor St, Hatfield, Pretoria, 0028, So...      Pretoria   \n",
      "2    130 Maltzan St, Pretoria West, Pretoria, 0001,...      Pretoria   \n",
      "3    Cnr Maunde &amp;, Hlahla St, Atteridgeville, P...      Pretoria   \n",
      "4    56 Totius St, Groenkloof, Pretoria, 0181, Sout...      Pretoria   \n",
      "..                                                 ...           ...   \n",
      "665   Witpoort (Beaulieu), Midrand, 1684, South Africa       Midrand   \n",
      "666   Witpoort (Beaulieu), Midrand, 1684, South Africa       Midrand   \n",
      "667   Witpoort (Beaulieu), Midrand, 1684, South Africa       Midrand   \n",
      "668  In Customer Care, Vodacom Blvd Shop 11, TechCa...       Midrand   \n",
      "669  S Park Ln, New Doornfontein, Johannesburg, 209...  Johannesburg   \n",
      "\n",
      "           Business Type  \n",
      "0    Stadiums and Arenas  \n",
      "1    Stadiums and Arenas  \n",
      "2    Stadiums and Arenas  \n",
      "3    Stadiums and Arenas  \n",
      "4    Stadiums and Arenas  \n",
      "..                   ...  \n",
      "665  Stadiums and Arenas  \n",
      "666  Stadiums and Arenas  \n",
      "667  Stadiums and Arenas  \n",
      "668  Stadiums and Arenas  \n",
      "669  Stadiums and Arenas  \n",
      "\n",
      "[599 rows x 3 columns]\n"
     ]
    }
   ],
   "source": [
    "print(new_df)"
   ]
  },
  {
   "cell_type": "code",
   "execution_count": 200,
   "metadata": {},
   "outputs": [],
   "source": [
    "new_df.to_csv('StadiumData.csv', index=False)"
   ]
  },
  {
   "cell_type": "code",
   "execution_count": 201,
   "metadata": {},
   "outputs": [
    {
     "name": "stdout",
     "output_type": "stream",
     "text": [
      "File saved to \"NewStadium_Arenas.csv\"\n"
     ]
    }
   ],
   "source": [
    "print('File saved to \"NewStadium_Arenas.csv\"')"
   ]
  },
  {
   "cell_type": "code",
   "execution_count": 202,
   "metadata": {},
   "outputs": [],
   "source": [
    "df1 = pd.read_csv('StadiumData.csv')"
   ]
  },
  {
   "cell_type": "code",
   "execution_count": 206,
   "metadata": {},
   "outputs": [
    {
     "name": "stdout",
     "output_type": "stream",
     "text": [
      "['Pretoria' 'Johannesburg' 'Soweto' 'Roodepoort' 'Centurion' 'Tembisa'\n",
      " 'Germiston' 'Wolfelea ' 'Dawnview' 'Kudube' 'Alberton' 'Fourways'\n",
      " 'Orange Farm' 'Vanderbijlpark' 'Boksburg' 'Vosloorus' 'Brakpan' 'Benoni'\n",
      " 'Meadowlands' 'Lenasia' 'Krugersdorp' 'Alexandra' 'Diepsloot' 'Midrand'\n",
      " 'Ennerdale' 'Bapsfontein' 'Sasolburg' 'Vereeniging' 'Kempton Park'\n",
      " 'Potchefstroom' 'Parys' 'Springs' 'Carletonville']\n"
     ]
    }
   ],
   "source": [
    "unique_townsNow = df1['Town'].unique()\n",
    "print(unique_townsNow)"
   ]
  },
  {
   "cell_type": "code",
   "execution_count": 222,
   "metadata": {},
   "outputs": [],
   "source": [
    "df1['Town'] = df1['Town'].replace({'Randfontein': 'Johannesburg','Fourways': 'Johannesburg', 'Randburg': 'Johannesburg', 'Sandton': 'Johannesburg', 'Katlehong': 'Johannesburg', 'Edenvale': 'Johannesburg','Alexandra': 'Johannesburg'})\n",
    "df1['Town'] = df1['Town'].replace({'Tembisa': 'Midrand'})\n",
    "df1['Town'] = df1['Town'].replace({ 'Orange Farm':'Soweto', 'Meadowlands': 'Soweto','Lenasia':'Soweto','Ennerdale':'Soweto','Potchefstroom':'Soweto'})\n",
    "df1['Town'] = df1['Town'].replace({'Kempton Park': 'Benoni','Sasolburg': 'Benoni','Germiston': 'Benoni','Bapsfontein' : 'Benoni', 'Alberton': 'Benoni',  'Vosloorus': 'Benoni', 'Boksburg': 'Benoni','Dawnview': 'Benoni'})\n",
    "df1['Town'] = df1['Town'].replace({'Wolfelea ': 'Krugersdorp'})\n",
    "df1['Town'] = df1['Town'].replace({'Kudube': 'Pretoria'})\n",
    "df1['Town'] = df1['Town'].replace({'Parys': 'Vanderbijlpark'})\n",
    "\n"
   ]
  },
  {
   "cell_type": "code",
   "execution_count": 223,
   "metadata": {},
   "outputs": [
    {
     "name": "stdout",
     "output_type": "stream",
     "text": [
      "['Pretoria' 'Johannesburg' 'Soweto' 'Roodepoort' 'Centurion' 'Midrand'\n",
      " 'Benoni' 'Krugersdorp' 'Vanderbijlpark' 'Brakpan' 'Diepsloot'\n",
      " 'Vereeniging' 'Springs' 'Carletonville']\n"
     ]
    }
   ],
   "source": [
    "unique_townsNow = df1['Town'].unique()\n",
    "print(unique_townsNow)"
   ]
  },
  {
   "cell_type": "markdown",
   "metadata": {},
   "source": []
  },
  {
   "cell_type": "code",
   "execution_count": 224,
   "metadata": {},
   "outputs": [],
   "source": [
    "df1.to_csv('FinalStadiumData.csv', index=False)"
   ]
  },
  {
   "cell_type": "markdown",
   "metadata": {},
   "source": []
  }
 ],
 "metadata": {
  "kernelspec": {
   "display_name": "Python 3.9.12 64-bit ('anaconda3')",
   "language": "python",
   "name": "python3"
  },
  "language_info": {
   "codemirror_mode": {
    "name": "ipython",
    "version": 3
   },
   "file_extension": ".py",
   "mimetype": "text/x-python",
   "name": "python",
   "nbconvert_exporter": "python",
   "pygments_lexer": "ipython3",
   "version": "3.9.12"
  },
  "orig_nbformat": 4,
  "vscode": {
   "interpreter": {
    "hash": "40d3a090f54c6569ab1632332b64b2c03c39dcf918b08424e98f38b5ae0af88f"
   }
  }
 },
 "nbformat": 4,
 "nbformat_minor": 2
}
